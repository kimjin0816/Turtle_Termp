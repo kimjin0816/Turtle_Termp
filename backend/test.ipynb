{
 "cells": [
  {
   "cell_type": "code",
   "execution_count": null,
   "metadata": {},
   "outputs": [],
   "source": [
    "from clothesTable_model import clothesTable_model\n",
    "from clothesHandler import clothesHandler\n",
    "ch = clothesHandler()\n",
    "cm = clothesTable_model()"
   ]
  },
  {
   "cell_type": "code",
   "execution_count": null,
   "metadata": {},
   "outputs": [],
   "source": [
    "cm.setTable()"
   ]
  },
  {
   "cell_type": "code",
   "execution_count": null,
   "metadata": {},
   "outputs": [],
   "source": [
    "ch.insertData('neat', 'a', '1', 'brand1', 'red', 'logo1', 'asd')\n",
    "ch.insertData('neat', 'b', '2', 'brand2', 'blue', 'logo2', 'dfg')\n",
    "ch.insertData('shirt', 'c', '1', 'brand3', 'green', 'logo3', 'asdf')\n",
    "ch.insertData('shirt', 'd', '2', 'brand4', 'yellow', 'logo4', 'asdfe')"
   ]
  },
  {
   "cell_type": "code",
   "execution_count": null,
   "metadata": {},
   "outputs": [],
   "source": [
    "data = ['n1', '1', 'brand1_1', 'red1', 'logo1_1', 'asd1']\n",
    "ch.updateData('neat', data)"
   ]
  },
  {
   "cell_type": "code",
   "execution_count": null,
   "metadata": {},
   "outputs": [],
   "source": [
    "ch.deleteData('neat')\n",
    "ch.deleteData('shirt')\n",
    "ch.deleteData('mantoman')\n",
    "ch.deleteData('hood')"
   ]
  },
  {
   "cell_type": "code",
   "execution_count": null,
   "metadata": {},
   "outputs": [],
   "source": [
    "ch.deleteSequence('neat_sequence')\n",
    "ch.deleteSequence('shirt_sequence')\n",
    "ch.deleteSequence('mantoman_sequence')\n",
    "ch.deleteSequence('hood_sequence')"
   ]
  },
  {
   "cell_type": "code",
   "execution_count": null,
   "metadata": {},
   "outputs": [],
   "source": [
    "ch.dropTable('neat')\n",
    "ch.dropTable('shirt')\n",
    "ch.dropTable('mantoman')\n",
    "ch.dropTable('hood')"
   ]
  },
  {
   "cell_type": "code",
   "execution_count": null,
   "metadata": {},
   "outputs": [],
   "source": [
    "ch.truncateData()"
   ]
  }
 ],
 "metadata": {
  "kernelspec": {
   "display_name": "Python 3",
   "language": "python",
   "name": "python3"
  },
  "language_info": {
   "codemirror_mode": {
    "name": "ipython",
    "version": 3
   },
   "file_extension": ".py",
   "mimetype": "text/x-python",
   "name": "python",
   "nbconvert_exporter": "python",
   "pygments_lexer": "ipython3",
   "version": "3.11.2"
  }
 },
 "nbformat": 4,
 "nbformat_minor": 2
}
