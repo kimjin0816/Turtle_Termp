{
 "cells": [
  {
   "cell_type": "code",
   "execution_count": 1,
   "metadata": {},
   "outputs": [],
   "source": [
    "from clothesTable_model import clothesTable_model\n",
    "from clothesHandler import clothesHandler\n",
    "import itertools\n",
    "\n",
    "ch = clothesHandler()\n",
    "cm = clothesTable_model()"
   ]
  },
  {
   "cell_type": "code",
   "execution_count": null,
   "metadata": {},
   "outputs": [],
   "source": [
    "cm.setTable()                       "
   ]
  },
  {
   "cell_type": "code",
   "execution_count": null,
   "metadata": {},
   "outputs": [],
   "source": [
    "# True와 False가 되는 모든 경우의 수를 생성\n",
    "for hood, kara, zipper, logo, printer in itertools.product([True, False], repeat=5):\n",
    "        # 각 경우에 대해 t_f_insert 함수 호출\n",
    "    ch.t_f_insert(hood, kara, zipper, logo, printer)\n",
    "    \n",
    "for jogger, pocket in itertools.product([True, False], repeat=2):\n",
    "    ch.b_f_insert(jogger, pocket)"
   ]
  },
  {
   "cell_type": "code",
   "execution_count": null,
   "metadata": {},
   "outputs": [],
   "source": [
    "feature0 = [True, True, True, True, True]\n",
    "feature1 = [False, True, True, True, True]\n",
    "feature2 = [False, False, True, True, True]\n",
    "feature3 = [False, False, False, True, True]\n",
    "# ch.t_c_Insert('아웃터', '패딩', 'red', feature)\n",
    "ch.t_c_Insert('qorwh0816', '아웃터', '패딩', 'blue', feature0)\n",
    "ch.t_c_Insert('qorwh0816', '아웃터', '패딩', 'pink', feature1)\n",
    "ch.t_c_Insert('jk', '아웃터', '패딩', 'pink', feature2)\n",
    "ch.t_c_Insert('jk', '아웃터', '패딩', 'pink', feature3)"
   ]
  },
  {
   "cell_type": "code",
   "execution_count": null,
   "metadata": {},
   "outputs": [],
   "source": [
    "ch.t_c_SelectID('qorwh0816')"
   ]
  },
  {
   "cell_type": "code",
   "execution_count": null,
   "metadata": {},
   "outputs": [],
   "source": [
    "feature = [False, False, False, True, True]\n",
    "ch.t_c_Insert('kijun', '긴팔', '패딩', 'black', feature) "
   ]
  },
  {
   "cell_type": "code",
   "execution_count": 3,
   "metadata": {},
   "outputs": [
    {
     "data": {
      "text/plain": [
       "'blob:http://localhost:8080/60948ee5-d030-4abb-909b-64e9e4ee0b37'"
      ]
     },
     "execution_count": 3,
     "metadata": {},
     "output_type": "execute_result"
    }
   ],
   "source": [
    "ch.c_img_url()"
   ]
  }
 ],
 "metadata": {
  "kernelspec": {
   "display_name": "Python 3",
   "language": "python",
   "name": "python3"
  },
  "language_info": {
   "codemirror_mode": {
    "name": "ipython",
    "version": 3
   },
   "file_extension": ".py",
   "mimetype": "text/x-python",
   "name": "python",
   "nbconvert_exporter": "python",
   "pygments_lexer": "ipython3",
   "version": "3.11.2"
  }
 },
 "nbformat": 4,
 "nbformat_minor": 2
}
