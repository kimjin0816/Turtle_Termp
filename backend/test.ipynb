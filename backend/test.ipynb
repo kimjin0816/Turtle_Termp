{
 "cells": [
  {
   "cell_type": "code",
   "execution_count": null,
   "metadata": {},
   "outputs": [],
   "source": [
    "from clothesTable_model import clothesTable_model\n",
    "from clothesHandler import clothesHandler\n",
    "ch = clothesHandler()\n",
    "cm = clothesTable_model()"
   ]
  },
  {
   "cell_type": "code",
   "execution_count": null,
   "metadata": {},
   "outputs": [],
   "source": [
    "cm.setTable()                       "
   ]
  },
  {
   "cell_type": "code",
   "execution_count": null,
   "metadata": {},
   "outputs": [],
   "source": [
    "ch.insertData('t_neat', 'a', '1', 'brand1', 'red', 'logo1', 'url1')\n",
    "ch.insertData('t_neat', 'b', '2', 'brand2', 'blue', 'logo2', 'url2')\n",
    "ch.insertData('t_shirt', 'c', '1', 'brand3', 'green', 'logo3', 'url3')\n",
    "ch.insertData('t_shirt', 'd', '2', 'brand4', 'yellow', 'logo4', 'url4')\n",
    "ch.insertData('b_jeans', 'e', '1', 'brand5', 'pink', 'logo5', 'url5')\n",
    "ch.insertData('b_jeans', 'f', '2', 'brand6', 'blue', 'logo6', 'url6')\n",
    "ch.insertData('b_jogger', 'g', '1', 'brand7', 'green', 'logo7', 'url7')\n",
    "ch.insertData('b_jogger', 'h', '2', 'brand8', 'blue', 'logo8', 'url8')"
   ]
  },
  {
   "cell_type": "code",
   "execution_count": null,
   "metadata": {},
   "outputs": [],
   "source": [
    "data = ['n1', '1', 'brand1_1', 'red1', 'logo1_1', 'asd1']\n",
    "ch.updateData('t_neat', data)  "
   ]
  },
  {
   "cell_type": "code",
   "execution_count": null,
   "metadata": {},
   "outputs": [],
   "source": [
    "ch.deleteData('t_neat')\n",
    "ch.deleteData('t_shirt')\n",
    "ch.deleteData('t_mantoman')\n",
    "ch.deleteData('t_hood')\n",
    "ch.deleteData('b_jeans')\n",
    "ch.deleteData('b_slacks')\n",
    "ch.deleteData('b_training')\n",
    "ch.deleteData('b_jogger')"
   ]
  },
  {
   "cell_type": "code",
   "execution_count": null,
   "metadata": {},
   "outputs": [],
   "source": [
    "ch.deleteSequence('t_neat_sequence')\n",
    "ch.deleteSequence('t_shirt_sequence')\n",
    "ch.deleteSequence('t_mantoman_sequence')\n",
    "ch.deleteSequence('t_hood_sequence')\n",
    "ch.deleteSequence('b_jeans_sequence')\n",
    "ch.deleteSequence('b_slacks_sequence')\n",
    "ch.deleteSequence('b_training_sequence')\n",
    "ch.deleteSequence('b_jogger_sequence')"
   ]
  },
  {
   "cell_type": "code",
   "execution_count": null,
   "metadata": {},
   "outputs": [],
   "source": [
    "ch.dropTable('t_neat')\n",
    "ch.dropTable('t_shirt')\n",
    "ch.dropTable('t_mantoman')\n",
    "ch.dropTable('t_hood')\n",
    "ch.dropTable('b_jeans')\n",
    "ch.dropTable('b_slacks')\n",
    "ch.dropTable('b_training')\n",
    "ch.dropTable('b_jogger')\n",
    "ch.dropTable('clothing_type')"
   ]
  }
 ],
 "metadata": {
  "kernelspec": {
   "display_name": "Python 3",
   "language": "python",
   "name": "python3"
  },
  "language_info": {
   "codemirror_mode": {
    "name": "ipython",
    "version": 3
   },
   "file_extension": ".py",
   "mimetype": "text/x-python",
   "name": "python",
   "nbconvert_exporter": "python",
   "pygments_lexer": "ipython3",
   "version": "3.11.2"
  }
 },
 "nbformat": 4,
 "nbformat_minor": 2
}
