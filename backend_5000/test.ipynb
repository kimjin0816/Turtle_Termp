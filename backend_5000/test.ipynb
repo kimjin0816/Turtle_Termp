{
 "cells": [
  {
   "cell_type": "code",
   "execution_count": 1,
   "metadata": {},
   "outputs": [],
   "source": [
    "from clothesHandler import clothesHandler\n",
    "import itertools\n",
    "\n",
    "ch = clothesHandler()"
   ]
  },
  {
   "cell_type": "code",
   "execution_count": 2,
   "metadata": {},
   "outputs": [],
   "source": [
    "# True와 False가 되는 모든 경우의 수를 생성\n",
    "for logo, printer in itertools.product([True, False], repeat=2):\n",
    "        # 각 경우에 대해 t_f_insert 함수 호출\n",
    "    ch.t_f_insert(logo, printer)\n",
    "    \n",
    "# for jogger, pocket in itertools.product([True, False], repeat=2):\n",
    "#     ch.b_f_insert(jogger, pocket)"
   ]
  }
 ],
 "metadata": {
  "kernelspec": {
   "display_name": "Python 3",
   "language": "python",
   "name": "python3"
  },
  "language_info": {
   "codemirror_mode": {
    "name": "ipython",
    "version": 3
   },
   "file_extension": ".py",
   "mimetype": "text/x-python",
   "name": "python",
   "nbconvert_exporter": "python",
   "pygments_lexer": "ipython3",
   "version": "3.11.1"
  }
 },
 "nbformat": 4,
 "nbformat_minor": 2
}
