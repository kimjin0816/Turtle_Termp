{
 "cells": [
  {
   "cell_type": "code",
   "execution_count": 1,
   "metadata": {},
   "outputs": [],
   "source": [
    "from clothesHandler import clothesHandler\n",
    "import itertools\n",
    "\n",
    "ch = clothesHandler()"
   ]
  },
  {
   "cell_type": "code",
   "execution_count": 2,
   "metadata": {},
   "outputs": [],
   "source": [
    "# True와 False가 되는 모든 경우의 수를 생성\n",
    "for hood, printer, henley, kara, pocket in itertools.product([True, False], repeat=5):\n",
    "        # 각 경우에 대해 t_f_insert 함수 호출\n",
    "    ch.t_f_insert(hood, printer, henley, kara, pocket)\n",
    "    \n",
    "# for jogger, pocket in itertools.product([True, False], repeat=2):\n",
    "#     ch.b_f_insert(jogger, pocket)"
   ]
  },
  {
   "cell_type": "code",
   "execution_count": 1,
   "metadata": {},
   "outputs": [
    {
     "name": "stdout",
     "output_type": "stream",
     "text": [
      "feature_keywords :  키워드1\n"
     ]
    },
    {
     "data": {
      "text/plain": [
       "'키워드1'"
      ]
     },
     "execution_count": 1,
     "metadata": {},
     "output_type": "execute_result"
    }
   ],
   "source": [
    "from index import Index\n",
    "\n",
    "Index.featureArray_keyword()"
   ]
  }
 ],
 "metadata": {
  "kernelspec": {
   "display_name": "Python 3",
   "language": "python",
   "name": "python3"
  },
  "language_info": {
   "codemirror_mode": {
    "name": "ipython",
    "version": 3
   },
   "file_extension": ".py",
   "mimetype": "text/x-python",
   "name": "python",
   "nbconvert_exporter": "python",
   "pygments_lexer": "ipython3",
   "version": "3.11.1"
  }
 },
 "nbformat": 4,
 "nbformat_minor": 2
}
