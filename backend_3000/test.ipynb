{
 "cells": [
  {
   "cell_type": "code",
   "execution_count": null,
   "metadata": {},
   "outputs": [],
   "source": [
    "from clothesTable_model import clothesTable_model\n",
    "from clothesHandler import clothesHandler\n",
    "import itertools\n",
    "\n",
    "ch = clothesHandler()\n",
    "cm = clothesTable_model()"
   ]
  },
  {
   "cell_type": "code",
   "execution_count": null,
<<<<<<< HEAD
=======
   "metadata": {},
   "outputs": [],
   "source": [
    "ch.image_path(\"blue_blouson.jpg\", \"blouson\")"
   ]
  },
  {
   "cell_type": "code",
   "execution_count": 3,
   "metadata": {},
   "outputs": [
    {
     "name": "stdout",
     "output_type": "stream",
     "text": [
      "user\n"
     ]
    }
   ],
   "source": [
    "id = ch.get_current_user_id()"
   ]
  },
  {
   "cell_type": "code",
   "execution_count": null,
>>>>>>> 539874f7711bf125d4c194bbd022e016db732755
   "metadata": {},
   "outputs": [],
   "source": [
    "cm.setTable()                       "
   ]
  },
  {
   "cell_type": "code",
   "execution_count": null,
   "metadata": {},
   "outputs": [],
   "source": [
    "# True와 False가 되는 모든 경우의 수를 생성\n",
    "for hood, kara, zipper, logo, printer in itertools.product([True, False], repeat=5):\n",
    "        # 각 경우에 대해 t_f_insert 함수 호출\n",
    "    ch.t_f_insert(hood, kara, zipper, logo, printer)\n",
    "    \n",
    "for jogger, pocket in itertools.product([True, False], repeat=2):\n",
    "    ch.b_f_insert(jogger, pocket)"
   ]
  },
  {
   "cell_type": "code",
   "execution_count": null,
   "metadata": {},
   "outputs": [],
   "source": [
    "feature0 = [True, True, True, True, True]\n",
    "feature1 = [False, True, True, True, True]\n",
    "feature2 = [False, False, True, True, True]\n",
    "feature3 = [False, False, False, True, True]"
   ]
  },
  {
   "cell_type": "code",
   "execution_count": null,
   "metadata": {},
   "outputs": [],
   "source": [
    "ch.t_c_Insert('id1', '아웃터', '패딩', 'blue', feature0)\n",
    "ch.t_c_Insert('id1', '아웃터', '패딩', 'red', feature0)\n",
    "ch.t_c_Insert('id1', '아웃터', '패딩', 'pink', feature0)\n",
    "\n",
    "ch.t_c_Insert('id2', '아웃터', '코트', 'blue', feature1)\n",
    "ch.t_c_Insert('id2', '아웃터', '코트', 'red', feature1)\n",
    "ch.t_c_Insert('id2', '아웃터', '코트', 'pink', feature1)\n",
    "\n",
    "ch.t_c_Insert('id3', '아웃터', '블루종', 'blue', feature2)\n",
    "ch.t_c_Insert('id3', '아웃터', '블루종', 'red', feature2)\n",
    "ch.t_c_Insert('id3', '아웃터', '블루종', 'pink', feature2)"
   ]
  },
  {
   "cell_type": "code",
   "execution_count": null,
   "metadata": {},
   "outputs": [],
   "source": [
    "ch.t_c_Insert('id3', '아웃터', '블루종', 'pink', feature2)"
   ]
  }
 ],
 "metadata": {
  "kernelspec": {
   "display_name": "Python 3",
   "language": "python",
   "name": "python3"
  },
  "language_info": {
   "codemirror_mode": {
    "name": "ipython",
    "version": 3
   },
   "file_extension": ".py",
   "mimetype": "text/x-python",
   "name": "python",
   "nbconvert_exporter": "python",
   "pygments_lexer": "ipython3",
   "version": "3.11.8"
  }
 },
 "nbformat": 4,
 "nbformat_minor": 2
}
